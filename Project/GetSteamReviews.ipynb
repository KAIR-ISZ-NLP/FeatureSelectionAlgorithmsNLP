{
 "cells": [
  {
   "cell_type": "markdown",
   "id": "explicit-venture",
   "metadata": {},
   "source": [
    "Script for getting Steam reviews from Stem API"
   ]
  },
  {
   "cell_type": "code",
   "execution_count": null,
   "id": "ongoing-convenience",
   "metadata": {},
   "outputs": [],
   "source": [
    "import requests\n",
    "from bs4 import BeautifulSoup\n",
    "import pandas as pd\n",
    "import re"
   ]
  },
  {
   "cell_type": "code",
   "execution_count": null,
   "id": "indirect-grass",
   "metadata": {},
   "outputs": [],
   "source": [
    "def get_reviews(appid, params):\n",
    "    if params is None:\n",
    "        params = {'json': 1}\n",
    "    url = 'https://store.steampowered.com/appreviews/'\n",
    "    response = requests.get(url=url + appid, params=params, headers={'User-Agent': 'Mozilla/5.0'})\n",
    "    return response.json()\n",
    "\n",
    "def get_n_reviews(appid, n):\n",
    "    print(appid)\n",
    "    reviews = []\n",
    "    cursor = '*'\n",
    "    params = {\n",
    "        'json': 1,\n",
    "        'filter': 'recent',\n",
    "        'language': 'polish',\n",
    "        'day_range': 9223372036854775807,\n",
    "        'review_type': 'all',\n",
    "        'purchase_type': 'all'\n",
    "    }\n",
    "\n",
    "    while n > 0:\n",
    "        params['cursor'] = cursor.encode()\n",
    "        params['num_per_page'] = min(100, n)\n",
    "        n -= 100\n",
    "\n",
    "        response = get_reviews(appid, params)\n",
    "        cursor = response['cursor']\n",
    "        reviews += response['reviews']\n",
    "\n",
    "        if len(response['reviews']) < 100:\n",
    "            break\n",
    "    return reviews\n",
    "\n",
    "\n",
    "def get_n_appids(n, filter_by='topsellers'):\n",
    "    appids = []\n",
    "    #url = f'https://store.steampowered.com/search/?category1=998&filter={filter_by}&page='\n",
    "    url = f'https://store.steampowered.com/search/?tags=122&category1=998'\n",
    "    page = 0\n",
    "\n",
    "    while page*25 < n:\n",
    "        page += 1\n",
    "        response = requests.get(url=url+str(page), headers={'User-Agent': 'Mozilla/5.0'})\n",
    "        soup = BeautifulSoup(response.text, 'html.parser')\n",
    "        for row in soup.find_all(class_='search_result_row'):\n",
    "            appids.append(row['data-ds-appid'])\n",
    "\n",
    "    return appids[:n]"
   ]
  },
  {
   "cell_type": "code",
   "execution_count": null,
   "id": "confused-manitoba",
   "metadata": {},
   "outputs": [],
   "source": [
    "all_reviews = []\n",
    "all_appids = get_n_appids(25)\n",
    "m = 0\n",
    "for single_appid in all_appids:\n",
    "        all_reviews += get_n_reviews(single_appid, 10000)\n",
    "\n",
    "df = pd.DataFrame(all_reviews)[['review', 'voted_up']]"
   ]
  },
  {
   "cell_type": "code",
   "execution_count": null,
   "id": "removed-denial",
   "metadata": {},
   "outputs": [],
   "source": [
    "df.to_excel(\"game_reviews.xlsx\")"
   ]
  }
 ],
 "metadata": {
  "kernelspec": {
   "display_name": "Python 3 (ipykernel)",
   "language": "python",
   "name": "python3"
  },
  "language_info": {
   "codemirror_mode": {
    "name": "ipython",
    "version": 3
   },
   "file_extension": ".py",
   "mimetype": "text/x-python",
   "name": "python",
   "nbconvert_exporter": "python",
   "pygments_lexer": "ipython3",
   "version": "3.9.7"
  }
 },
 "nbformat": 4,
 "nbformat_minor": 5
}
