{
 "cells": [
  {
   "cell_type": "markdown",
   "id": "84d33e80",
   "metadata": {},
   "source": [
    "<h1> Chi$^2$ feature selection method</h1>"
   ]
  },
  {
   "cell_type": "code",
   "execution_count": 1,
   "id": "4ecc98b1",
   "metadata": {},
   "outputs": [],
   "source": [
    "import pandas as pd\n",
    "from sklearn.naive_bayes import GaussianNB, MultinomialNB\n",
    "from sklearn.model_selection import train_test_split\n",
    "from sklearn.model_selection import GridSearchCV\n",
    "from sklearn.metrics import classification_report, confusion_matrix\n",
    "import numpy as np\n",
    "from sklearn.feature_selection import chi2\n",
    "from sklearn.feature_selection import SelectKBest\n",
    "from sklearn.feature_selection import VarianceThreshold\n",
    "from sklearn.svm import LinearSVC\n",
    "from sklearn.feature_selection import SelectFromModel\n",
    "from sklearn.feature_extraction.text import TfidfVectorizer\n",
    "from sklearn.pipeline import Pipeline\n",
    "from sklearn.metrics import accuracy_score\n",
    "import matplotlib.pyplot as plt\n",
    "from sklearn.neighbors import KNeighborsClassifier\n",
    "from sklearn.svm import SVC\n",
    "from sklearn.tree import DecisionTreeClassifier\n",
    "from sklearn.linear_model import LogisticRegression"
   ]
  },
  {
   "cell_type": "code",
   "execution_count": 53,
   "id": "d97047fd",
   "metadata": {},
   "outputs": [],
   "source": [
    "df_preprocessed = pd.read_excel(\"game_reviews_preprocessed_.xlsx\", index_col=0)"
   ]
  },
  {
   "cell_type": "code",
   "execution_count": 54,
   "id": "8426af5c",
   "metadata": {},
   "outputs": [
    {
     "data": {
      "text/html": [
       "<div>\n",
       "<style scoped>\n",
       "    .dataframe tbody tr th:only-of-type {\n",
       "        vertical-align: middle;\n",
       "    }\n",
       "\n",
       "    .dataframe tbody tr th {\n",
       "        vertical-align: top;\n",
       "    }\n",
       "\n",
       "    .dataframe thead th {\n",
       "        text-align: right;\n",
       "    }\n",
       "</style>\n",
       "<table border=\"1\" class=\"dataframe\">\n",
       "  <thead>\n",
       "    <tr style=\"text-align: right;\">\n",
       "      <th></th>\n",
       "      <th>review</th>\n",
       "      <th>voted_up</th>\n",
       "    </tr>\n",
       "  </thead>\n",
       "  <tbody>\n",
       "    <tr>\n",
       "      <th>9815</th>\n",
       "      <td>grać koło godzina skyrim special edition odnie...</td>\n",
       "      <td>False</td>\n",
       "    </tr>\n",
       "    <tr>\n",
       "      <th>6200</th>\n",
       "      <td>chodzić fabuła grafika gra zdać bardzo dobra p...</td>\n",
       "      <td>True</td>\n",
       "    </tr>\n",
       "    <tr>\n",
       "      <th>5302</th>\n",
       "      <td>myśleć gra bardzo godny polecenie świetnie spę...</td>\n",
       "      <td>True</td>\n",
       "    </tr>\n",
       "    <tr>\n",
       "      <th>4061</th>\n",
       "      <td>normalnie krewić człowiek zalewa nerwica pojaw...</td>\n",
       "      <td>False</td>\n",
       "    </tr>\n",
       "    <tr>\n",
       "      <th>36571</th>\n",
       "      <td>mocny raz chcieć rozpocząć przygoda jogging by...</td>\n",
       "      <td>False</td>\n",
       "    </tr>\n",
       "    <tr>\n",
       "      <th>...</th>\n",
       "      <td>...</td>\n",
       "      <td>...</td>\n",
       "    </tr>\n",
       "    <tr>\n",
       "      <th>36473</th>\n",
       "      <td>całkiem ładny grafika ciekawy postać lokacja z...</td>\n",
       "      <td>False</td>\n",
       "    </tr>\n",
       "    <tr>\n",
       "      <th>115</th>\n",
       "      <td>pierwsza gra typ mój ręka pozytywnie zaskoczyć...</td>\n",
       "      <td>True</td>\n",
       "    </tr>\n",
       "    <tr>\n",
       "      <th>38854</th>\n",
       "      <td>witać gierka naprawdę spoko problem połączyć s...</td>\n",
       "      <td>False</td>\n",
       "    </tr>\n",
       "    <tr>\n",
       "      <th>3537</th>\n",
       "      <td>niestety początek pojawienie gra nie być stan ...</td>\n",
       "      <td>True</td>\n",
       "    </tr>\n",
       "    <tr>\n",
       "      <th>28915</th>\n",
       "      <td>sum grindownik gierka jestes klasa mieć czas s...</td>\n",
       "      <td>False</td>\n",
       "    </tr>\n",
       "  </tbody>\n",
       "</table>\n",
       "<p>3666 rows × 2 columns</p>\n",
       "</div>"
      ],
      "text/plain": [
       "                                                  review  voted_up\n",
       "9815   grać koło godzina skyrim special edition odnie...     False\n",
       "6200   chodzić fabuła grafika gra zdać bardzo dobra p...      True\n",
       "5302   myśleć gra bardzo godny polecenie świetnie spę...      True\n",
       "4061   normalnie krewić człowiek zalewa nerwica pojaw...     False\n",
       "36571  mocny raz chcieć rozpocząć przygoda jogging by...     False\n",
       "...                                                  ...       ...\n",
       "36473  całkiem ładny grafika ciekawy postać lokacja z...     False\n",
       "115    pierwsza gra typ mój ręka pozytywnie zaskoczyć...      True\n",
       "38854  witać gierka naprawdę spoko problem połączyć s...     False\n",
       "3537   niestety początek pojawienie gra nie być stan ...      True\n",
       "28915  sum grindownik gierka jestes klasa mieć czas s...     False\n",
       "\n",
       "[3666 rows x 2 columns]"
      ]
     },
     "execution_count": 54,
     "metadata": {},
     "output_type": "execute_result"
    }
   ],
   "source": [
    "df_preprocessed"
   ]
  },
  {
   "cell_type": "code",
   "execution_count": 55,
   "id": "3cf35603",
   "metadata": {},
   "outputs": [],
   "source": [
    "df_preprocessed.drop_duplicates(subset=['review'], inplace=True)\n",
    "X_train, X_test, y_train, y_test = train_test_split(df_preprocessed['review'], df_preprocessed['voted_up'], test_size=0.3, random_state=42)"
   ]
  },
  {
   "cell_type": "code",
   "execution_count": 56,
   "id": "3432afc1",
   "metadata": {},
   "outputs": [
    {
     "name": "stdout",
     "output_type": "stream",
     "text": [
      "(2559, 116692)\n"
     ]
    }
   ],
   "source": [
    "vectorizer = TfidfVectorizer(ngram_range=(1, 2))\n",
    "X_train = vectorizer.fit_transform(X_train)\n",
    "tfidf_tokens = vectorizer.get_feature_names()\n",
    "\n",
    "print(X_train.shape)"
   ]
  },
  {
   "cell_type": "code",
   "execution_count": 57,
   "id": "4d4022e9",
   "metadata": {},
   "outputs": [
    {
     "name": "stdout",
     "output_type": "stream",
     "text": [
      "(1098, 116692)\n"
     ]
    }
   ],
   "source": [
    "X_test = vectorizer.transform(X_test)\n",
    "tfidf_tokens = vectorizer.get_feature_names()\n",
    "\n",
    "print(X_test.shape)"
   ]
  },
  {
   "cell_type": "code",
   "execution_count": 58,
   "id": "7d96a6d1",
   "metadata": {},
   "outputs": [
    {
     "data": {
      "text/plain": [
       "9815     False\n",
       "6200      True\n",
       "5302      True\n",
       "4061     False\n",
       "36571    False\n",
       "         ...  \n",
       "36473    False\n",
       "115       True\n",
       "38854    False\n",
       "3537      True\n",
       "28915    False\n",
       "Name: voted_up, Length: 3657, dtype: bool"
      ]
     },
     "execution_count": 58,
     "metadata": {},
     "output_type": "execute_result"
    }
   ],
   "source": [
    "y = df_preprocessed['voted_up']\n",
    "y"
   ]
  },
  {
   "cell_type": "markdown",
   "id": "1a16f942",
   "metadata": {},
   "source": [
    "<h3> MultinomialNB </h3>"
   ]
  },
  {
   "cell_type": "code",
   "execution_count": 14,
   "id": "96071492",
   "metadata": {},
   "outputs": [
    {
     "name": "stdout",
     "output_type": "stream",
     "text": [
      "1000\n",
      "6000\n",
      "11000\n",
      "16000\n",
      "21000\n",
      "26000\n",
      "31000\n",
      "36000\n",
      "41000\n",
      "46000\n",
      "51000\n",
      "56000\n",
      "61000\n",
      "66000\n",
      "71000\n",
      "76000\n",
      "81000\n",
      "86000\n",
      "91000\n",
      "96000\n",
      "101000\n",
      "106000\n",
      "111000\n",
      "116000\n",
      "Best k is 6000 with score 0.8460837887067395\n",
      "              precision    recall  f1-score   support\n",
      "\n",
      "       False       0.83      0.88      0.85       553\n",
      "        True       0.87      0.82      0.84       545\n",
      "\n",
      "    accuracy                           0.85      1098\n",
      "   macro avg       0.85      0.85      0.85      1098\n",
      "weighted avg       0.85      0.85      0.85      1098\n",
      "\n",
      "[[484  69]\n",
      " [100 445]]\n"
     ]
    },
    {
     "data": {
      "text/plain": [
       "[<matplotlib.lines.Line2D at 0x22dc5c3c160>]"
      ]
     },
     "execution_count": 14,
     "metadata": {},
     "output_type": "execute_result"
    },
    {
     "data": {
      "image/png": "[encoded data removed]",
      "text/plain": [
       "<Figure size 432x288 with 1 Axes>"
      ]
     },
     "metadata": {
      "needs_background": "light"
     },
     "output_type": "display_data"
    }
   ],
   "source": [
    "k_best = 0\n",
    "score_best = 0\n",
    "all_k = [i for i in range(1000, X_train.shape[1], 5000)]\n",
    "all_scores = []\n",
    "\n",
    "for k in all_k:\n",
    "    print(k)\n",
    "    kbest = SelectKBest(score_func=chi2, k=k)\n",
    "\n",
    "#     fit = kbest.fit(X, y)\n",
    "\n",
    "    X_train_new=kbest.fit_transform(X_train, y_train)\n",
    "\n",
    "#     model = GaussianNB(var_smoothing=0.0657933224657568)\n",
    "    model = MultinomialNB()\n",
    "\n",
    "#     X_train, X_test, y_train, y_test = train_test_split(X_new, y, test_size=0.3, random_state=42)\n",
    "    X_test_new = kbest.transform(X_test)\n",
    "    model.fit(X_train_new,y_train)\n",
    "\n",
    "    y_pred = model.predict(X_test_new)\n",
    "    score = accuracy_score(y_test,y_pred)\n",
    "    all_scores.append(score)\n",
    "#     print(k)\n",
    "#     print(score)\n",
    "#     print(classification_report(y_test,y_pred))\n",
    "#     print(confusion_matrix(y_test,y_pred))\n",
    "    \n",
    "    if score > score_best:\n",
    "        score_best = score\n",
    "        k_best = k\n",
    "        class_best = classification_report(y_test,y_pred)\n",
    "        conf_best = confusion_matrix(y_test,y_pred)\n",
    "        best_model = model\n",
    "        best_features = kbest\n",
    "        \n",
    "print(f\"Best k is {k_best} with score {score_best}\")\n",
    "print(class_best)\n",
    "print(conf_best)\n",
    "plt.plot(all_k, all_scores)"
   ]
  },
  {
   "cell_type": "markdown",
   "id": "fc8a6cb5",
   "metadata": {},
   "source": [
    "<h3> SVC </h3>"
   ]
  },
  {
   "cell_type": "code",
   "execution_count": null,
   "id": "abd73d89",
   "metadata": {},
   "outputs": [],
   "source": [
    "k_best = 0\n",
    "score_best = 0\n",
    "all_k = [i for i in range(1000, X_train.shape[1], 5000)]\n",
    "all_scores = []\n",
    "\n",
    "for k in all_k:\n",
    "    print(k)\n",
    "    kbest = SelectKBest(score_func=chi2, k=k)\n",
    "\n",
    "    X_train_new=kbest.fit_transform(X_train, y_train)\n",
    "\n",
    "    model = SVC()\n",
    "\n",
    "    X_test_new = kbest.transform(X_test)\n",
    "    model.fit(X_train_new.toarray(),y_train)\n",
    "\n",
    "    y_pred = model.predict(X_test_new.toarray())\n",
    "    score = accuracy_score(y_test,y_pred)\n",
    "    all_scores.append(score)\n",
    "    \n",
    "    if score > score_best:\n",
    "        score_best = score\n",
    "        k_best = k\n",
    "        class_best = classification_report(y_test,y_pred)\n",
    "        conf_best = confusion_matrix(y_test,y_pred)\n",
    "        best_model = model\n",
    "        best_features = kbest\n",
    "        \n",
    "print(f\"Best k is {k_best} with score {score_best}\")\n",
    "print(class_best)\n",
    "print(conf_best)\n",
    "plt.plot(all_k, all_scores)"
   ]
  },
  {
   "cell_type": "markdown",
   "id": "aa165ff8",
   "metadata": {},
   "source": [
    "<h3> KNeighborsClassifier </h3>"
   ]
  },
  {
   "cell_type": "code",
   "execution_count": null,
   "id": "cb8bdd1f",
   "metadata": {},
   "outputs": [],
   "source": [
    "k_best = 0\n",
    "score_best = 0\n",
    "all_k = [i for i in range(1000, X.shape[1], 10000)]\n",
    "all_scores = []\n",
    "best_n = 0\n",
    "\n",
    "for k in all_k:\n",
    "    kbest = SelectKBest(score_func=chi2, k=k)\n",
    "    X_train_new=kbest.fit_transform(X_train, y_train)\n",
    "    \n",
    "    for n in range(1,20):\n",
    "        model = KNeighborsClassifier(n_neighbors=n)\n",
    "\n",
    "        X_test_new = kbest.transform(X_test)\n",
    "        model.fit(X_train_new.toarray(),y_train)\n",
    "\n",
    "        y_pred = model.predict(X_test_new.toarray())\n",
    "        score = accuracy_score(y_test,y_pred)\n",
    "        all_scores.append(score)\n",
    "\n",
    "        if score > score_best:\n",
    "            score_best = score\n",
    "            k_best = k\n",
    "            best_n = n\n",
    "            class_best = classification_report(y_test,y_pred)\n",
    "            conf_best = confusion_matrix(y_test,y_pred)\n",
    "        \n",
    "print(f\"Best k is {k_best} with score {score_best}\")\n",
    "print(f\"Best n is {best_n}\")\n",
    "print(class_best)\n",
    "print(conf_best)"
   ]
  },
  {
   "cell_type": "markdown",
   "id": "95704258",
   "metadata": {},
   "source": [
    "<h3> DecisionTreeClassifier </h3>"
   ]
  },
  {
   "cell_type": "code",
   "execution_count": 65,
   "id": "c66ae1b8",
   "metadata": {},
   "outputs": [
    {
     "name": "stdout",
     "output_type": "stream",
     "text": [
      "1000\n",
      "6000\n",
      "11000\n",
      "16000\n",
      "21000\n",
      "26000\n",
      "31000\n",
      "36000\n",
      "41000\n",
      "46000\n",
      "51000\n",
      "56000\n",
      "61000\n",
      "66000\n",
      "71000\n",
      "76000\n",
      "81000\n",
      "86000\n",
      "91000\n",
      "96000\n",
      "101000\n",
      "106000\n",
      "111000\n",
      "116000\n",
      "Best k is 31000 with score 0.7349726775956285\n",
      "              precision    recall  f1-score   support\n",
      "\n",
      "       False       0.76      0.69      0.73       553\n",
      "        True       0.71      0.78      0.74       545\n",
      "\n",
      "    accuracy                           0.73      1098\n",
      "   macro avg       0.74      0.74      0.73      1098\n",
      "weighted avg       0.74      0.73      0.73      1098\n",
      "\n",
      "[[384 169]\n",
      " [122 423]]\n"
     ]
    },
    {
     "data": {
      "text/plain": [
       "[<matplotlib.lines.Line2D at 0x22dc5867c10>]"
      ]
     },
     "execution_count": 65,
     "metadata": {},
     "output_type": "execute_result"
    },
    {
     "data": {
      "image/png": "[encoded data removed]",
      "text/plain": [
       "<Figure size 432x288 with 1 Axes>"
      ]
     },
     "metadata": {
      "needs_background": "light"
     },
     "output_type": "display_data"
    }
   ],
   "source": [
    "k_best = 0\n",
    "score_best = 0\n",
    "all_k = [i for i in range(1000, X_train.shape[1], 5000)]\n",
    "all_scores = []\n",
    "\n",
    "for k in all_k:\n",
    "    print(k)\n",
    "    kbest = SelectKBest(score_func=chi2, k=k)\n",
    "\n",
    "    X_train_new=kbest.fit_transform(X_train, y_train)\n",
    "\n",
    "    model = DecisionTreeClassifier()\n",
    "\n",
    "    X_test_new = kbest.transform(X_test)\n",
    "    model.fit(X_train_new.toarray(),y_train)\n",
    "\n",
    "    y_pred = model.predict(X_test_new.toarray())\n",
    "    score = accuracy_score(y_test,y_pred)\n",
    "    all_scores.append(score)\n",
    "    \n",
    "    if score > score_best:\n",
    "        score_best = score\n",
    "        k_best = k\n",
    "        class_best = classification_report(y_test,y_pred)\n",
    "        conf_best = confusion_matrix(y_test,y_pred)\n",
    "        best_model = model\n",
    "        best_features = kbest\n",
    "        \n",
    "print(f\"Best k is {k_best} with score {score_best}\")\n",
    "print(class_best)\n",
    "print(conf_best)\n",
    "plt.plot(all_k, all_scores)"
   ]
  },
  {
   "cell_type": "markdown",
   "id": "052b29bb",
   "metadata": {},
   "source": [
    "<h3> GaussianNB </h3>"
   ]
  },
  {
   "cell_type": "code",
   "execution_count": 64,
   "id": "134eed7d",
   "metadata": {},
   "outputs": [
    {
     "name": "stdout",
     "output_type": "stream",
     "text": [
      "1000\n",
      "6000\n",
      "11000\n",
      "16000\n",
      "21000\n",
      "26000\n",
      "31000\n",
      "36000\n",
      "41000\n",
      "46000\n",
      "51000\n",
      "56000\n",
      "61000\n",
      "66000\n",
      "71000\n",
      "76000\n",
      "81000\n",
      "86000\n",
      "91000\n",
      "96000\n",
      "101000\n",
      "106000\n",
      "111000\n",
      "116000\n",
      "Best k is 26000 with score 0.7887067395264117\n",
      "              precision    recall  f1-score   support\n",
      "\n",
      "       False       0.77      0.83      0.80       553\n",
      "        True       0.81      0.75      0.78       545\n",
      "\n",
      "    accuracy                           0.79      1098\n",
      "   macro avg       0.79      0.79      0.79      1098\n",
      "weighted avg       0.79      0.79      0.79      1098\n",
      "\n",
      "[[459  94]\n",
      " [138 407]]\n"
     ]
    },
    {
     "data": {
      "text/plain": [
       "[<matplotlib.lines.Line2D at 0x22dc5da6220>]"
      ]
     },
     "execution_count": 64,
     "metadata": {},
     "output_type": "execute_result"
    },
    {
     "data": {
      "image/png": "[encoded data removed]",
      "text/plain": [
       "<Figure size 432x288 with 1 Axes>"
      ]
     },
     "metadata": {
      "needs_background": "light"
     },
     "output_type": "display_data"
    }
   ],
   "source": [
    "k_best = 0\n",
    "score_best = 0\n",
    "all_k = [i for i in range(1000, X_train.shape[1], 5000)]\n",
    "all_scores = []\n",
    "\n",
    "for k in all_k:\n",
    "    print(k)\n",
    "    kbest = SelectKBest(score_func=chi2, k=k)\n",
    "\n",
    "    X_train_new=kbest.fit_transform(X_train, y_train)\n",
    "\n",
    "    model = GaussianNB()\n",
    "\n",
    "    X_test_new = kbest.transform(X_test)\n",
    "    model.fit(X_train_new.toarray(),y_train)\n",
    "\n",
    "    y_pred = model.predict(X_test_new.toarray())\n",
    "    score = accuracy_score(y_test,y_pred)\n",
    "    all_scores.append(score)\n",
    "    \n",
    "    if score > score_best:\n",
    "        score_best = score\n",
    "        k_best = k\n",
    "        class_best = classification_report(y_test,y_pred)\n",
    "        conf_best = confusion_matrix(y_test,y_pred)\n",
    "        best_model = model\n",
    "        best_features = kbest\n",
    "        \n",
    "print(f\"Best k is {k_best} with score {score_best}\")\n",
    "print(class_best)\n",
    "print(conf_best)\n",
    "plt.plot(all_k, all_scores)"
   ]
  },
  {
   "cell_type": "markdown",
   "id": "aadf436d",
   "metadata": {},
   "source": [
    "<h3> LogisticRegression </h3>"
   ]
  },
  {
   "cell_type": "code",
   "execution_count": 59,
   "id": "9709cb41",
   "metadata": {},
   "outputs": [
    {
     "name": "stdout",
     "output_type": "stream",
     "text": [
      "1000\n",
      "6000\n",
      "11000\n",
      "16000\n",
      "21000\n",
      "26000\n",
      "31000\n",
      "36000\n",
      "41000\n",
      "46000\n",
      "51000\n",
      "56000\n",
      "61000\n",
      "66000\n",
      "71000\n",
      "76000\n",
      "81000\n",
      "86000\n",
      "91000\n",
      "96000\n",
      "101000\n",
      "106000\n",
      "111000\n",
      "116000\n",
      "Best k is 61000 with score 0.855191256830601\n",
      "              precision    recall  f1-score   support\n",
      "\n",
      "       False       0.83      0.90      0.86       553\n",
      "        True       0.89      0.81      0.85       545\n",
      "\n",
      "    accuracy                           0.86      1098\n",
      "   macro avg       0.86      0.85      0.85      1098\n",
      "weighted avg       0.86      0.86      0.85      1098\n",
      "\n",
      "[[497  56]\n",
      " [103 442]]\n"
     ]
    },
    {
     "data": {
      "text/plain": [
       "[<matplotlib.lines.Line2D at 0x22dcdd438e0>]"
      ]
     },
     "execution_count": 59,
     "metadata": {},
     "output_type": "execute_result"
    },
    {
     "data": {
      "image/png": "[encoded data removed]",
      "text/plain": [
       "<Figure size 432x288 with 1 Axes>"
      ]
     },
     "metadata": {
      "needs_background": "light"
     },
     "output_type": "display_data"
    }
   ],
   "source": [
    "k_best = 0\n",
    "score_best = 0\n",
    "all_k = [i for i in range(1000, X_train.shape[1], 5000)]\n",
    "all_scores = []\n",
    "\n",
    "for k in all_k:\n",
    "    print(k)\n",
    "    kbest = SelectKBest(score_func=chi2, k=k)\n",
    "\n",
    "    X_train_new=kbest.fit_transform(X_train, y_train)\n",
    "\n",
    "    model = LogisticRegression()\n",
    "\n",
    "    X_test_new = kbest.transform(X_test)\n",
    "    model.fit(X_train_new,y_train)\n",
    "\n",
    "    y_pred = model.predict(X_test_new)\n",
    "    score = accuracy_score(y_test,y_pred)\n",
    "    all_scores.append(score)\n",
    "    \n",
    "    if score > score_best:\n",
    "        score_best = score\n",
    "        k_best = k\n",
    "        class_best = classification_report(y_test,y_pred)\n",
    "        conf_best = confusion_matrix(y_test,y_pred)\n",
    "        best_model = model\n",
    "        best_features = kbest\n",
    "        \n",
    "print(f\"Best k is {k_best} with score {score_best}\")\n",
    "print(class_best)\n",
    "print(conf_best)\n",
    "plt.plot(all_k, all_scores)"
   ]
  },
  {
   "cell_type": "code",
   "execution_count": null,
   "id": "ca5822df",
   "metadata": {},
   "outputs": [],
   "source": []
  }
 ],
 "metadata": {
  "kernelspec": {
   "display_name": "Python 3 (ipykernel)",
   "language": "python",
   "name": "python3"
  },
  "language_info": {
   "codemirror_mode": {
    "name": "ipython",
    "version": 3
   },
   "file_extension": ".py",
   "mimetype": "text/x-python",
   "name": "python",
   "nbconvert_exporter": "python",
   "pygments_lexer": "ipython3",
   "version": "3.9.7"
  }
 },
 "nbformat": 4,
 "nbformat_minor": 5
}
